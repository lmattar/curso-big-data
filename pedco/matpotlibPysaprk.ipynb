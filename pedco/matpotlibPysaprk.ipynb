{
 "cells": [
  {
   "cell_type": "code",
   "execution_count": 1,
   "metadata": {},
   "outputs": [
    {
     "data": {
      "text/plain": [
       "[('spark.executor.instances', '4'),\n",
       " ('spark.driver.memory', '10g'),\n",
       " ('spark.sql.warehouse.dir',\n",
       "  'file:/home/usuarioFAI/ejemplosPython/spark-warehouse'),\n",
       " ('spark.executor.id', 'driver'),\n",
       " ('spark.app.id', 'local-1620674452376'),\n",
       " ('spark.executor.memory', '5g'),\n",
       " ('spark.driver.port', '43246'),\n",
       " ('spark.driver.host', '192.168.1.164'),\n",
       " ('spark.rdd.compress', 'True'),\n",
       " ('spark.app.name', 'Application Name'),\n",
       " ('spark.app.startTime', '1620674450172'),\n",
       " ('spark.serializer.objectStreamReset', '100'),\n",
       " ('spark.master', 'local[*]'),\n",
       " ('spark.submit.pyFiles', ''),\n",
       " ('spark.submit.deployMode', 'client'),\n",
       " ('spark.executor.memoryOverhead', '10g'),\n",
       " ('spark.ui.showConsoleProgress', 'true')]"
      ]
     },
     "execution_count": 1,
     "metadata": {},
     "output_type": "execute_result"
    }
   ],
   "source": [
    "# ahora vamos a graficas con una de las fuentes de datos\n",
    "#importo la libreria\n",
    "from pyspark.sql import SparkSession\n",
    "\n",
    "#abro una sesion con un nombre\n",
    "#spark=SparkSession.builder.appName('pysarkpruebas').getOrCreate()\n",
    "spark = SparkSession\\\n",
    ".builder\\\n",
    ".config(\"spark.submit.deployMode\", \"client\")\\\n",
    ".config(\"spark.executor.instances\", \"4\")\\\n",
    ".config(\"spark.executor.memory\", \"5g\")\\\n",
    ".config(\"spark.driver.memory\", \"10g\")\\\n",
    ".config(\"spark.executor.memoryOverhead\", \"10g\")\\\n",
    ".appName(\"Application Name\")\\\n",
    ".getOrCreate()\n",
    "\n",
    "\n",
    "#leo movie\n",
    "df_movie = spark.read.csv('hdfs://127.0.0.1:9000/cursoFAI/movie.csv', header=True, inferSchema=True)\n",
    "#leo rating\n",
    "df_rating = spark.read.csv('hdfs://127.0.0.1:9000/cursoFAI/rating.csv', header=True,  inferSchema=True)\n",
    "\n",
    "spark.sparkContext._conf.getAll()  # check the config"
   ]
  },
  {
   "cell_type": "code",
   "execution_count": 2,
   "metadata": {},
   "outputs": [
    {
     "data": {
      "text/plain": [
       "20000263"
      ]
     },
     "execution_count": 2,
     "metadata": {},
     "output_type": "execute_result"
    }
   ],
   "source": [
    "df_rating.count()"
   ]
  },
  {
   "cell_type": "code",
   "execution_count": 3,
   "metadata": {},
   "outputs": [
    {
     "name": "stdout",
     "output_type": "stream",
     "text": [
      "+------+-------+------+-------------------+\n",
      "|userId|movieId|rating|          timestamp|\n",
      "+------+-------+------+-------------------+\n",
      "|     1|      2|   3.5|2005-04-02 23:53:47|\n",
      "|     1|     29|   3.5|2005-04-02 23:31:16|\n",
      "|     1|     32|   3.5|2005-04-02 23:33:39|\n",
      "|     1|     47|   3.5|2005-04-02 23:32:07|\n",
      "|     1|     50|   3.5|2005-04-02 23:29:40|\n",
      "+------+-------+------+-------------------+\n",
      "only showing top 5 rows\n",
      "\n"
     ]
    }
   ],
   "source": [
    "df_rating.show(5)\n"
   ]
  },
  {
   "cell_type": "code",
   "execution_count": 4,
   "metadata": {},
   "outputs": [
    {
     "name": "stdout",
     "output_type": "stream",
     "text": [
      "+-------+--------------------+--------------------+\n",
      "|movieId|               title|              genres|\n",
      "+-------+--------------------+--------------------+\n",
      "|      1|    Toy Story (1995)|Adventure|Animati...|\n",
      "|      2|      Jumanji (1995)|Adventure|Childre...|\n",
      "|      3|Grumpier Old Men ...|      Comedy|Romance|\n",
      "|      4|Waiting to Exhale...|Comedy|Drama|Romance|\n",
      "|      5|Father of the Bri...|              Comedy|\n",
      "+-------+--------------------+--------------------+\n",
      "only showing top 5 rows\n",
      "\n"
     ]
    }
   ],
   "source": [
    "df_movie.show(5)"
   ]
  },
  {
   "cell_type": "code",
   "execution_count": 5,
   "metadata": {},
   "outputs": [
    {
     "data": {
      "text/plain": [
       "49695"
      ]
     },
     "execution_count": 5,
     "metadata": {},
     "output_type": "execute_result"
    }
   ],
   "source": [
    "# quiero mirar el rating de una pelicula en particular.\n",
    "#me quedo solo con los movies 1\n",
    "df_rating1 = df_rating.filter(df_rating['movieId'] == 1)\n",
    "\n",
    "df_rating1.count()"
   ]
  },
  {
   "cell_type": "code",
   "execution_count": 6,
   "metadata": {},
   "outputs": [
    {
     "name": "stdout",
     "output_type": "stream",
     "text": [
      "+------+-------+------+-------------------+-------+----------------+-------------------------------------------+\n",
      "|userId|movieId|rating|timestamp          |movieId|title           |genres                                     |\n",
      "+------+-------+------+-------------------+-------+----------------+-------------------------------------------+\n",
      "|3     |1      |4.0   |1999-12-11 13:36:47|1      |Toy Story (1995)|Adventure|Animation|Children|Comedy|Fantasy|\n",
      "|6     |1      |5.0   |1997-03-13 17:50:52|1      |Toy Story (1995)|Adventure|Animation|Children|Comedy|Fantasy|\n",
      "|8     |1      |4.0   |1996-06-05 13:37:51|1      |Toy Story (1995)|Adventure|Animation|Children|Comedy|Fantasy|\n",
      "|10    |1      |4.0   |1999-11-25 02:44:47|1      |Toy Story (1995)|Adventure|Animation|Children|Comedy|Fantasy|\n",
      "|11    |1      |4.5   |2009-01-02 01:13:41|1      |Toy Story (1995)|Adventure|Animation|Children|Comedy|Fantasy|\n",
      "|12    |1      |4.0   |1997-03-22 20:48:38|1      |Toy Story (1995)|Adventure|Animation|Children|Comedy|Fantasy|\n",
      "|13    |1      |4.0   |1996-11-27 08:21:31|1      |Toy Story (1995)|Adventure|Animation|Children|Comedy|Fantasy|\n",
      "|14    |1      |4.5   |2008-10-29 20:13:59|1      |Toy Story (1995)|Adventure|Animation|Children|Comedy|Fantasy|\n",
      "|16    |1      |3.0   |2001-05-27 13:22:52|1      |Toy Story (1995)|Adventure|Animation|Children|Comedy|Fantasy|\n",
      "|19    |1      |5.0   |1997-02-05 21:03:48|1      |Toy Story (1995)|Adventure|Animation|Children|Comedy|Fantasy|\n",
      "|22    |1      |3.0   |2001-07-09 00:22:37|1      |Toy Story (1995)|Adventure|Animation|Children|Comedy|Fantasy|\n",
      "|23    |1      |4.0   |1998-12-24 00:13:31|1      |Toy Story (1995)|Adventure|Animation|Children|Comedy|Fantasy|\n",
      "|24    |1      |4.0   |2001-07-04 07:02:29|1      |Toy Story (1995)|Adventure|Animation|Children|Comedy|Fantasy|\n",
      "|31    |1      |3.0   |2015-02-23 23:18:07|1      |Toy Story (1995)|Adventure|Animation|Children|Comedy|Fantasy|\n",
      "|34    |1      |5.0   |1996-10-28 13:30:45|1      |Toy Story (1995)|Adventure|Animation|Children|Comedy|Fantasy|\n",
      "|39    |1      |5.0   |1997-03-25 21:34:56|1      |Toy Story (1995)|Adventure|Animation|Children|Comedy|Fantasy|\n",
      "|47    |1      |1.0   |2009-04-17 03:53:17|1      |Toy Story (1995)|Adventure|Animation|Children|Comedy|Fantasy|\n",
      "|53    |1      |4.0   |1999-10-03 11:09:36|1      |Toy Story (1995)|Adventure|Animation|Children|Comedy|Fantasy|\n",
      "|54    |1      |4.0   |2000-11-21 21:00:21|1      |Toy Story (1995)|Adventure|Animation|Children|Comedy|Fantasy|\n",
      "|58    |1      |5.0   |2006-04-03 10:00:08|1      |Toy Story (1995)|Adventure|Animation|Children|Comedy|Fantasy|\n",
      "+------+-------+------+-------------------+-------+----------------+-------------------------------------------+\n",
      "only showing top 20 rows\n",
      "\n"
     ]
    }
   ],
   "source": [
    "#para probar hago un join... igualmente va a repetir todos los las de la movie 1 siempre\n",
    "joinmoviesrating = df_rating1.join(df_movie,df_rating1.movieId ==  df_movie.movieId,\"inner\")     \n",
    "\n",
    "joinmoviesrating.show(truncate=False)\n",
    "\n",
    "\n"
   ]
  },
  {
   "cell_type": "code",
   "execution_count": 7,
   "metadata": {},
   "outputs": [
    {
     "data": {
      "text/plain": [
       "0"
      ]
     },
     "execution_count": 7,
     "metadata": {},
     "output_type": "execute_result"
    }
   ],
   "source": [
    "#tengo valores nulos?\n",
    "\n",
    "joinmoviesrating.filter(joinmoviesrating['rating'].isNull()).count()\n"
   ]
  },
  {
   "cell_type": "code",
   "execution_count": 8,
   "metadata": {},
   "outputs": [
    {
     "data": {
      "text/plain": [
       "49684"
      ]
     },
     "execution_count": 8,
     "metadata": {},
     "output_type": "execute_result"
    }
   ],
   "source": [
    "# creo una serie con los datos de rating para la movie 1\n",
    "# para saber ctos días se mantuvo con el mismo rating\n",
    "import pandas as pd\n",
    "\n",
    "\n",
    "pdf_joinmoviesrating = joinmoviesrating.toPandas()\n",
    "#cantidad de valores diferentes de la columna timestamp...\n",
    "pdf_joinmoviesrating['timestamp'].nunique()"
   ]
  },
  {
   "cell_type": "code",
   "execution_count": 9,
   "metadata": {},
   "outputs": [
    {
     "name": "stdout",
     "output_type": "stream",
     "text": [
      "<class 'pandas.core.frame.DataFrame'>\n",
      "RangeIndex: 49695 entries, 0 to 49694\n",
      "Data columns (total 8 columns):\n",
      " #   Column     Non-Null Count  Dtype         \n",
      "---  ------     --------------  -----         \n",
      " 0   userId     49695 non-null  int32         \n",
      " 1   movieId    49695 non-null  int32         \n",
      " 2   rating     49695 non-null  float64       \n",
      " 3   timestamp  49695 non-null  object        \n",
      " 4   movieId    49695 non-null  int32         \n",
      " 5   title      49695 non-null  object        \n",
      " 6   genres     49695 non-null  object        \n",
      " 7   Datetime   49695 non-null  datetime64[ns]\n",
      "dtypes: datetime64[ns](1), float64(1), int32(3), object(3)\n",
      "memory usage: 2.5+ MB\n",
      "<class 'pandas.core.frame.DataFrame'>\n",
      "RangeIndex: 49695 entries, 0 to 49694\n",
      "Data columns (total 9 columns):\n",
      " #   Column     Non-Null Count  Dtype         \n",
      "---  ------     --------------  -----         \n",
      " 0   userId     49695 non-null  int32         \n",
      " 1   movieId    49695 non-null  int32         \n",
      " 2   rating     49695 non-null  float64       \n",
      " 3   timestamp  49695 non-null  object        \n",
      " 4   movieId    49695 non-null  int32         \n",
      " 5   title      49695 non-null  object        \n",
      " 6   genres     49695 non-null  object        \n",
      " 7   Datetime   49695 non-null  datetime64[ns]\n",
      " 8   fecha      49695 non-null  object        \n",
      "dtypes: datetime64[ns](1), float64(1), int32(3), object(4)\n",
      "memory usage: 2.8+ MB\n"
     ]
    }
   ],
   "source": [
    "#como son todos diferentes me quedo solo con la fecha del timestamp...\n",
    "\n",
    "\n",
    "pdf_joinmoviesrating['Datetime'] = pdf_joinmoviesrating['timestamp'].astype('datetime64[ns]')\n",
    "pdf_joinmoviesrating.info()\n",
    "\n",
    "\n",
    "pdf_joinmoviesrating['fecha'] = pdf_joinmoviesrating['Datetime'].dt.date\n",
    "\n",
    "pdf_joinmoviesrating.info()\n"
   ]
  },
  {
   "cell_type": "code",
   "execution_count": 10,
   "metadata": {},
   "outputs": [
    {
     "data": {
      "text/plain": [
       "6519"
      ]
     },
     "execution_count": 10,
     "metadata": {},
     "output_type": "execute_result"
    }
   ],
   "source": [
    "#veo ctas fechas diferentes hay\n",
    "pdf_joinmoviesrating['fecha'].nunique()"
   ]
  },
  {
   "cell_type": "code",
   "execution_count": 39,
   "metadata": {},
   "outputs": [
    {
     "name": "stdout",
     "output_type": "stream",
     "text": [
      "<class 'pandas.core.frame.DataFrame'>\n",
      "RangeIndex: 49695 entries, 0 to 49694\n",
      "Data columns (total 2 columns):\n",
      " #   Column  Non-Null Count  Dtype  \n",
      "---  ------  --------------  -----  \n",
      " 0   rating  49695 non-null  float64\n",
      " 1   fecha   49695 non-null  object \n",
      "dtypes: float64(1), object(1)\n",
      "memory usage: 776.6+ KB\n"
     ]
    }
   ],
   "source": [
    "# ahora se puedo agrupar por fecha y ver lo ratings de la movie 1\n",
    "\n",
    "#primero me quedo con fecha y rating\n",
    "\n",
    "pdf_joinmoviesrating1 = pdf_joinmoviesrating[['rating', 'fecha']]\n",
    "\n",
    "pdf_joinmoviesrating1.info()\n"
   ]
  },
  {
   "cell_type": "code",
   "execution_count": 12,
   "metadata": {},
   "outputs": [
    {
     "data": {
      "text/html": [
       "<div>\n",
       "<style scoped>\n",
       "    .dataframe tbody tr th:only-of-type {\n",
       "        vertical-align: middle;\n",
       "    }\n",
       "\n",
       "    .dataframe tbody tr th {\n",
       "        vertical-align: top;\n",
       "    }\n",
       "\n",
       "    .dataframe thead tr th {\n",
       "        text-align: left;\n",
       "    }\n",
       "\n",
       "    .dataframe thead tr:last-of-type th {\n",
       "        text-align: right;\n",
       "    }\n",
       "</style>\n",
       "<table border=\"1\" class=\"dataframe\">\n",
       "  <thead>\n",
       "    <tr>\n",
       "      <th></th>\n",
       "      <th>rating</th>\n",
       "    </tr>\n",
       "    <tr>\n",
       "      <th></th>\n",
       "      <th>mean</th>\n",
       "    </tr>\n",
       "    <tr>\n",
       "      <th>fecha</th>\n",
       "      <th></th>\n",
       "    </tr>\n",
       "  </thead>\n",
       "  <tbody>\n",
       "    <tr>\n",
       "      <th>1996-01-29</th>\n",
       "      <td>4.000000</td>\n",
       "    </tr>\n",
       "    <tr>\n",
       "      <th>1996-02-01</th>\n",
       "      <td>5.000000</td>\n",
       "    </tr>\n",
       "    <tr>\n",
       "      <th>1996-02-02</th>\n",
       "      <td>4.500000</td>\n",
       "    </tr>\n",
       "    <tr>\n",
       "      <th>1996-02-05</th>\n",
       "      <td>5.000000</td>\n",
       "    </tr>\n",
       "    <tr>\n",
       "      <th>1996-02-12</th>\n",
       "      <td>5.000000</td>\n",
       "    </tr>\n",
       "    <tr>\n",
       "      <th>...</th>\n",
       "      <td>...</td>\n",
       "    </tr>\n",
       "    <tr>\n",
       "      <th>2015-03-26</th>\n",
       "      <td>4.500000</td>\n",
       "    </tr>\n",
       "    <tr>\n",
       "      <th>2015-03-27</th>\n",
       "      <td>3.750000</td>\n",
       "    </tr>\n",
       "    <tr>\n",
       "      <th>2015-03-28</th>\n",
       "      <td>3.500000</td>\n",
       "    </tr>\n",
       "    <tr>\n",
       "      <th>2015-03-29</th>\n",
       "      <td>3.916667</td>\n",
       "    </tr>\n",
       "    <tr>\n",
       "      <th>2015-03-30</th>\n",
       "      <td>3.875000</td>\n",
       "    </tr>\n",
       "  </tbody>\n",
       "</table>\n",
       "<p>6519 rows × 1 columns</p>\n",
       "</div>"
      ],
      "text/plain": [
       "              rating\n",
       "                mean\n",
       "fecha               \n",
       "1996-01-29  4.000000\n",
       "1996-02-01  5.000000\n",
       "1996-02-02  4.500000\n",
       "1996-02-05  5.000000\n",
       "1996-02-12  5.000000\n",
       "...              ...\n",
       "2015-03-26  4.500000\n",
       "2015-03-27  3.750000\n",
       "2015-03-28  3.500000\n",
       "2015-03-29  3.916667\n",
       "2015-03-30  3.875000\n",
       "\n",
       "[6519 rows x 1 columns]"
      ]
     },
     "execution_count": 12,
     "metadata": {},
     "output_type": "execute_result"
    }
   ],
   "source": [
    "\n",
    "#calculo para cada fecha el promedio de ratings\n",
    "pdf_joinmoviesrating2 = pdf_joinmoviesrating1.groupby(['fecha']).agg(['mean'])\n",
    "pdf_joinmoviesrating2\n"
   ]
  },
  {
   "cell_type": "code",
   "execution_count": 13,
   "metadata": {},
   "outputs": [
    {
     "name": "stdout",
     "output_type": "stream",
     "text": [
      "La serie es: \n",
      " fecha\n",
      "1996-01-29    4.000000\n",
      "1996-02-01    5.000000\n",
      "1996-02-02    4.500000\n",
      "1996-02-05    5.000000\n",
      "1996-02-12    5.000000\n",
      "                ...   \n",
      "2015-03-26    4.500000\n",
      "2015-03-27    3.750000\n",
      "2015-03-28    3.500000\n",
      "2015-03-29    3.916667\n",
      "2015-03-30    3.875000\n",
      "Name: (rating, mean), Length: 6519, dtype: float64\n"
     ]
    }
   ],
   "source": [
    "# lo paso a serie de pandas\n",
    "ser1 = pd.Series(pdf_joinmoviesrating2.iloc[:,0])\n",
    "\n",
    "\n",
    "print('La serie es: \\n',  ser1)"
   ]
  },
  {
   "cell_type": "code",
   "execution_count": 14,
   "metadata": {},
   "outputs": [
    {
     "name": "stdout",
     "output_type": "stream",
     "text": [
      "La serie es: \n",
      " fecha\n",
      "1996-03-12    5.000000\n",
      "1996-04-02    4.923077\n",
      "1996-04-09    4.769231\n",
      "1996-04-23    4.000000\n",
      "1996-04-26    4.407407\n",
      "                ...   \n",
      "2015-03-05    4.035714\n",
      "2015-03-07    4.000000\n",
      "2015-03-18    4.250000\n",
      "2015-03-19    3.750000\n",
      "2015-03-30    3.875000\n",
      "Name: (rating, mean), Length: 652, dtype: float64\n"
     ]
    }
   ],
   "source": [
    "#ahora, me quedo con una cantidad aleatoria, una muestra\n",
    "#seleccionar un conjunto de filas como muestra\n",
    "ser2 = ser1.sample(frac=0.1).sort_index()\n",
    "\n",
    "print('La serie es: \\n',  ser2)\n"
   ]
  },
  {
   "cell_type": "code",
   "execution_count": 15,
   "metadata": {},
   "outputs": [
    {
     "data": {
      "image/png": "[encoded data removed]",
      "text/plain": [
       "<Figure size 432x288 with 1 Axes>"
      ]
     },
     "metadata": {
      "needs_background": "light"
     },
     "output_type": "display_data"
    }
   ],
   "source": [
    "import matplotlib.pyplot as plt\n",
    "\n",
    "\n",
    "plt.plot(ser2)\n",
    "plt.ylabel('probando números')\n",
    "plt.xlabel('probando otros números')\n",
    "plt.show()"
   ]
  },
  {
   "cell_type": "code",
   "execution_count": 48,
   "metadata": {},
   "outputs": [
    {
     "name": "stdout",
     "output_type": "stream",
     "text": [
      "<class 'pandas.core.frame.DataFrame'>\n",
      "RangeIndex: 49695 entries, 0 to 49694\n",
      "Data columns (total 2 columns):\n",
      " #   Column  Non-Null Count  Dtype  \n",
      "---  ------  --------------  -----  \n",
      " 0   rating  49695 non-null  float64\n",
      " 1   fecha   49695 non-null  object \n",
      "dtypes: float64(1), object(1)\n",
      "memory usage: 776.6+ KB\n",
      "<class 'pandas.core.frame.DataFrame'>\n",
      "RangeIndex: 49695 entries, 0 to 49694\n",
      "Data columns (total 3 columns):\n",
      " #   Column  Non-Null Count  Dtype  \n",
      "---  ------  --------------  -----  \n",
      " 0   rating  49695 non-null  float64\n",
      " 1   fecha   49695 non-null  object \n",
      " 2   año     49695 non-null  int64  \n",
      "dtypes: float64(1), int64(1), object(1)\n",
      "memory usage: 1.1+ MB\n"
     ]
    },
    {
     "name": "stderr",
     "output_type": "stream",
     "text": [
      "<ipython-input-48-4dd0ab4646db>:8: SettingWithCopyWarning: \n",
      "A value is trying to be set on a copy of a slice from a DataFrame.\n",
      "Try using .loc[row_indexer,col_indexer] = value instead\n",
      "\n",
      "See the caveats in the documentation: https://pandas.pydata.org/pandas-docs/stable/user_guide/indexing.html#returning-a-view-versus-a-copy\n",
      "  pdf_joinmoviesrating1['año'] = pd.DatetimeIndex(pdf_joinmoviesrating1['fecha']).year\n"
     ]
    }
   ],
   "source": [
    "# como son un monton de datos podemos agruparlos también por año, por ejemplo... y graficar desde ahi..\n",
    "\n",
    "pdf_joinmoviesrating1 = pdf_joinmoviesrating[['rating', 'fecha']]\n",
    "\n",
    "\n",
    "pdf_joinmoviesrating1.info()\n",
    "\n",
    "pdf_joinmoviesrating1['año'] = pd.DatetimeIndex(pdf_joinmoviesrating1['fecha']).year\n",
    "\n",
    "pdf_joinmoviesrating1.info()\n",
    "\n",
    "\n"
   ]
  },
  {
   "cell_type": "code",
   "execution_count": 38,
   "metadata": {},
   "outputs": [
    {
     "data": {
      "text/html": [
       "<div>\n",
       "<style scoped>\n",
       "    .dataframe tbody tr th:only-of-type {\n",
       "        vertical-align: middle;\n",
       "    }\n",
       "\n",
       "    .dataframe tbody tr th {\n",
       "        vertical-align: top;\n",
       "    }\n",
       "\n",
       "    .dataframe thead th {\n",
       "        text-align: right;\n",
       "    }\n",
       "</style>\n",
       "<table border=\"1\" class=\"dataframe\">\n",
       "  <thead>\n",
       "    <tr style=\"text-align: right;\">\n",
       "      <th></th>\n",
       "      <th>rating</th>\n",
       "      <th>fecha</th>\n",
       "      <th>year</th>\n",
       "    </tr>\n",
       "  </thead>\n",
       "  <tbody>\n",
       "    <tr>\n",
       "      <th>0</th>\n",
       "      <td>4.0</td>\n",
       "      <td>1999-12-11</td>\n",
       "      <td>1999</td>\n",
       "    </tr>\n",
       "    <tr>\n",
       "      <th>1</th>\n",
       "      <td>5.0</td>\n",
       "      <td>1997-03-13</td>\n",
       "      <td>1997</td>\n",
       "    </tr>\n",
       "    <tr>\n",
       "      <th>2</th>\n",
       "      <td>4.0</td>\n",
       "      <td>1996-06-05</td>\n",
       "      <td>1996</td>\n",
       "    </tr>\n",
       "    <tr>\n",
       "      <th>3</th>\n",
       "      <td>4.0</td>\n",
       "      <td>1999-11-25</td>\n",
       "      <td>1999</td>\n",
       "    </tr>\n",
       "    <tr>\n",
       "      <th>4</th>\n",
       "      <td>4.5</td>\n",
       "      <td>2009-01-02</td>\n",
       "      <td>2009</td>\n",
       "    </tr>\n",
       "  </tbody>\n",
       "</table>\n",
       "</div>"
      ],
      "text/plain": [
       "   rating       fecha  year\n",
       "0     4.0  1999-12-11  1999\n",
       "1     5.0  1997-03-13  1997\n",
       "2     4.0  1996-06-05  1996\n",
       "3     4.0  1999-11-25  1999\n",
       "4     4.5  2009-01-02  2009"
      ]
     },
     "execution_count": 38,
     "metadata": {},
     "output_type": "execute_result"
    }
   ],
   "source": [
    "pdf_joinmoviesrating1.head()"
   ]
  },
  {
   "cell_type": "code",
   "execution_count": 49,
   "metadata": {},
   "outputs": [
    {
     "data": {
      "text/plain": [
       "rating    49695\n",
       "año       49695\n",
       "dtype: int64"
      ]
     },
     "execution_count": 49,
     "metadata": {},
     "output_type": "execute_result"
    }
   ],
   "source": [
    "pdf_joinmoviesrating3 = pdf_joinmoviesrating1[['rating', 'año']]\n",
    "\n",
    "#pdf_joinmoviesrating3.head()\n",
    "pdf_joinmoviesrating3.count()"
   ]
  },
  {
   "cell_type": "code",
   "execution_count": 50,
   "metadata": {},
   "outputs": [
    {
     "data": {
      "text/html": [
       "<div>\n",
       "<style scoped>\n",
       "    .dataframe tbody tr th:only-of-type {\n",
       "        vertical-align: middle;\n",
       "    }\n",
       "\n",
       "    .dataframe tbody tr th {\n",
       "        vertical-align: top;\n",
       "    }\n",
       "\n",
       "    .dataframe thead tr th {\n",
       "        text-align: left;\n",
       "    }\n",
       "\n",
       "    .dataframe thead tr:last-of-type th {\n",
       "        text-align: right;\n",
       "    }\n",
       "</style>\n",
       "<table border=\"1\" class=\"dataframe\">\n",
       "  <thead>\n",
       "    <tr>\n",
       "      <th></th>\n",
       "      <th>rating</th>\n",
       "    </tr>\n",
       "    <tr>\n",
       "      <th></th>\n",
       "      <th>mean</th>\n",
       "    </tr>\n",
       "    <tr>\n",
       "      <th>año</th>\n",
       "      <th></th>\n",
       "    </tr>\n",
       "  </thead>\n",
       "  <tbody>\n",
       "    <tr>\n",
       "      <th>1996</th>\n",
       "      <td>4.132270</td>\n",
       "    </tr>\n",
       "    <tr>\n",
       "      <th>1997</th>\n",
       "      <td>3.875424</td>\n",
       "    </tr>\n",
       "    <tr>\n",
       "      <th>1998</th>\n",
       "      <td>3.885799</td>\n",
       "    </tr>\n",
       "    <tr>\n",
       "      <th>1999</th>\n",
       "      <td>3.974688</td>\n",
       "    </tr>\n",
       "    <tr>\n",
       "      <th>2000</th>\n",
       "      <td>4.142609</td>\n",
       "    </tr>\n",
       "  </tbody>\n",
       "</table>\n",
       "</div>"
      ],
      "text/plain": [
       "        rating\n",
       "          mean\n",
       "año           \n",
       "1996  4.132270\n",
       "1997  3.875424\n",
       "1998  3.885799\n",
       "1999  3.974688\n",
       "2000  4.142609"
      ]
     },
     "execution_count": 50,
     "metadata": {},
     "output_type": "execute_result"
    }
   ],
   "source": [
    "# agrupo por año y calculo el promedio\n",
    "\n",
    "\n",
    "pdf_joinmoviesrating3 = pdf_joinmoviesrating3.groupby(['año']).agg(['mean'])\n",
    "pdf_joinmoviesrating3.head()\n"
   ]
  },
  {
   "cell_type": "code",
   "execution_count": 53,
   "metadata": {},
   "outputs": [
    {
     "data": {
      "text/html": [
       "<div>\n",
       "<style scoped>\n",
       "    .dataframe tbody tr th:only-of-type {\n",
       "        vertical-align: middle;\n",
       "    }\n",
       "\n",
       "    .dataframe tbody tr th {\n",
       "        vertical-align: top;\n",
       "    }\n",
       "\n",
       "    .dataframe thead tr th {\n",
       "        text-align: left;\n",
       "    }\n",
       "\n",
       "    .dataframe thead tr:last-of-type th {\n",
       "        text-align: right;\n",
       "    }\n",
       "</style>\n",
       "<table border=\"1\" class=\"dataframe\">\n",
       "  <thead>\n",
       "    <tr>\n",
       "      <th></th>\n",
       "      <th>rating</th>\n",
       "    </tr>\n",
       "    <tr>\n",
       "      <th></th>\n",
       "      <th>mean</th>\n",
       "    </tr>\n",
       "    <tr>\n",
       "      <th>año</th>\n",
       "      <th></th>\n",
       "    </tr>\n",
       "  </thead>\n",
       "  <tbody>\n",
       "    <tr>\n",
       "      <th>1996</th>\n",
       "      <td>4.132270</td>\n",
       "    </tr>\n",
       "    <tr>\n",
       "      <th>1997</th>\n",
       "      <td>3.875424</td>\n",
       "    </tr>\n",
       "    <tr>\n",
       "      <th>1998</th>\n",
       "      <td>3.885799</td>\n",
       "    </tr>\n",
       "    <tr>\n",
       "      <th>1999</th>\n",
       "      <td>3.974688</td>\n",
       "    </tr>\n",
       "    <tr>\n",
       "      <th>2000</th>\n",
       "      <td>4.142609</td>\n",
       "    </tr>\n",
       "    <tr>\n",
       "      <th>2001</th>\n",
       "      <td>4.117698</td>\n",
       "    </tr>\n",
       "    <tr>\n",
       "      <th>2002</th>\n",
       "      <td>4.047855</td>\n",
       "    </tr>\n",
       "    <tr>\n",
       "      <th>2003</th>\n",
       "      <td>4.004680</td>\n",
       "    </tr>\n",
       "    <tr>\n",
       "      <th>2004</th>\n",
       "      <td>3.863380</td>\n",
       "    </tr>\n",
       "    <tr>\n",
       "      <th>2005</th>\n",
       "      <td>3.755229</td>\n",
       "    </tr>\n",
       "    <tr>\n",
       "      <th>2006</th>\n",
       "      <td>3.680774</td>\n",
       "    </tr>\n",
       "    <tr>\n",
       "      <th>2007</th>\n",
       "      <td>3.672973</td>\n",
       "    </tr>\n",
       "    <tr>\n",
       "      <th>2008</th>\n",
       "      <td>3.740781</td>\n",
       "    </tr>\n",
       "    <tr>\n",
       "      <th>2009</th>\n",
       "      <td>3.766777</td>\n",
       "    </tr>\n",
       "    <tr>\n",
       "      <th>2010</th>\n",
       "      <td>3.856772</td>\n",
       "    </tr>\n",
       "    <tr>\n",
       "      <th>2011</th>\n",
       "      <td>3.861689</td>\n",
       "    </tr>\n",
       "    <tr>\n",
       "      <th>2012</th>\n",
       "      <td>3.931421</td>\n",
       "    </tr>\n",
       "    <tr>\n",
       "      <th>2013</th>\n",
       "      <td>3.946274</td>\n",
       "    </tr>\n",
       "    <tr>\n",
       "      <th>2014</th>\n",
       "      <td>3.954945</td>\n",
       "    </tr>\n",
       "    <tr>\n",
       "      <th>2015</th>\n",
       "      <td>3.860412</td>\n",
       "    </tr>\n",
       "  </tbody>\n",
       "</table>\n",
       "</div>"
      ],
      "text/plain": [
       "        rating\n",
       "          mean\n",
       "año           \n",
       "1996  4.132270\n",
       "1997  3.875424\n",
       "1998  3.885799\n",
       "1999  3.974688\n",
       "2000  4.142609\n",
       "2001  4.117698\n",
       "2002  4.047855\n",
       "2003  4.004680\n",
       "2004  3.863380\n",
       "2005  3.755229\n",
       "2006  3.680774\n",
       "2007  3.672973\n",
       "2008  3.740781\n",
       "2009  3.766777\n",
       "2010  3.856772\n",
       "2011  3.861689\n",
       "2012  3.931421\n",
       "2013  3.946274\n",
       "2014  3.954945\n",
       "2015  3.860412"
      ]
     },
     "execution_count": 53,
     "metadata": {},
     "output_type": "execute_result"
    }
   ],
   "source": [
    "pdf_joinmoviesrating3\n"
   ]
  },
  {
   "cell_type": "code",
   "execution_count": 67,
   "metadata": {},
   "outputs": [
    {
     "name": "stdout",
     "output_type": "stream",
     "text": [
      "La serie es: \n",
      " año\n",
      "1996    4.132270\n",
      "1997    3.875424\n",
      "1998    3.885799\n",
      "1999    3.974688\n",
      "2000    4.142609\n",
      "2001    4.117698\n",
      "2002    4.047855\n",
      "2003    4.004680\n",
      "2004    3.863380\n",
      "2005    3.755229\n",
      "2006    3.680774\n",
      "2007    3.672973\n",
      "2008    3.740781\n",
      "2009    3.766777\n",
      "2010    3.856772\n",
      "2011    3.861689\n",
      "2012    3.931421\n",
      "2013    3.946274\n",
      "2014    3.954945\n",
      "2015    3.860412\n",
      "Name: (rating, mean), dtype: float64\n"
     ]
    }
   ],
   "source": [
    "\n",
    "# lo paso a serie de pandas\n",
    "ser1 = pd.Series(pdf_joinmoviesrating3.iloc[:,0])\n",
    "print('La serie es: \\n',  ser1)\n"
   ]
  },
  {
   "cell_type": "code",
   "execution_count": 68,
   "metadata": {},
   "outputs": [
    {
     "data": {
      "text/plain": [
       "<AxesSubplot:xlabel='año'>"
      ]
     },
     "execution_count": 68,
     "metadata": {},
     "output_type": "execute_result"
    },
    {
     "data": {
      "image/png": "[encoded data removed]",
      "text/plain": [
       "<Figure size 432x288 with 1 Axes>"
      ]
     },
     "metadata": {
      "needs_background": "light"
     },
     "output_type": "display_data"
    }
   ],
   "source": [
    "# ahora lo garfico desde pandas\n",
    "ser1.plot.bar()"
   ]
  },
  {
   "cell_type": "code",
   "execution_count": null,
   "metadata": {},
   "outputs": [],
   "source": []
  }
 ],
 "metadata": {
  "kernelspec": {
   "display_name": "Python 3",
   "language": "python",
   "name": "python3"
  },
  "language_info": {
   "codemirror_mode": {
    "name": "ipython",
    "version": 3
   },
   "file_extension": ".py",
   "mimetype": "text/x-python",
   "name": "python",
   "nbconvert_exporter": "python",
   "pygments_lexer": "ipython3",
   "version": "3.9.4"
  }
 },
 "nbformat": 4,
 "nbformat_minor": 4
}
