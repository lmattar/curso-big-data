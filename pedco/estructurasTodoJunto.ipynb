{
 "cells": [
  {
   "cell_type": "code",
   "execution_count": 1,
   "metadata": {},
   "outputs": [],
   "source": [
    "# USANDO ESTRUCTURAS TODAS JUNTAS"
   ]
  },
  {
   "cell_type": "code",
   "execution_count": 2,
   "metadata": {},
   "outputs": [],
   "source": [
    "import pandas as pd\n",
    "import numpy as np"
   ]
  },
  {
   "cell_type": "code",
   "execution_count": 3,
   "metadata": {},
   "outputs": [
    {
     "name": "stdout",
     "output_type": "stream",
     "text": [
      "0     G\n",
      "1     E\n",
      "2     E\n",
      "3     K\n",
      "4     S\n",
      "5     F\n",
      "6     O\n",
      "7     R\n",
      "8     G\n",
      "9     E\n",
      "10    E\n",
      "11    K\n",
      "12    S\n",
      "dtype: object\n"
     ]
    }
   ],
   "source": [
    "# creando una serie desde una lista\n",
    "lst = ['G','E','E','K','S','F','O','R','G','E','E','K','S']\n",
    "  \n",
    "s = pd.Series(lst)\n",
    "print(s)"
   ]
  },
  {
   "cell_type": "code",
   "execution_count": 4,
   "metadata": {},
   "outputs": [
    {
     "name": "stdout",
     "output_type": "stream",
     "text": [
      "G    2\n",
      "E    4\n",
      "K    2\n",
      "S    2\n",
      "F    1\n",
      "O    1\n",
      "R    1\n",
      "dtype: int64\n"
     ]
    }
   ],
   "source": [
    "# creando una serie desde un dict\n",
    "dct = {'G':2,'E':4,'K':2,'S':2,'F':1,'O':1,'R':1}\n",
    "  \n",
    "s = pd.Series(dct)\n",
    "print(s)"
   ]
  },
  {
   "cell_type": "code",
   "execution_count": 5,
   "metadata": {},
   "outputs": [
    {
     "data": {
      "text/plain": [
       "a      [1, 2, 3]\n",
       "b         [4, 5]\n",
       "c              6\n",
       "d    Hello World\n",
       "dtype: object"
      ]
     },
     "execution_count": 5,
     "metadata": {},
     "output_type": "execute_result"
    }
   ],
   "source": [
    "# otro ejemplo con dict\n",
    "t_dict = {'a' : [1,2,3], 'b': [4,5], 'c':6, 'd': \"Hello World\"}\n",
    "\n",
    "series_dict = pd.Series(t_dict)\n",
    "series_dict"
   ]
  },
  {
   "cell_type": "code",
   "execution_count": 6,
   "metadata": {},
   "outputs": [
    {
     "name": "stdout",
     "output_type": "stream",
     "text": [
      "0     G\n",
      "1     E\n",
      "2     E\n",
      "3     K\n",
      "4     S\n",
      "5     F\n",
      "6     O\n",
      "7     R\n",
      "8     G\n",
      "9     E\n",
      "10    E\n",
      "11    K\n",
      "12    S\n",
      "dtype: object\n"
     ]
    }
   ],
   "source": [
    "# creando una serie desde un numpy array\n",
    "arr = np.array(['G','E','E','K','S','F','O','R','G','E','E','K','S'])\n",
    "  \n",
    "s = pd.Series(arr)\n",
    "print(s)"
   ]
  },
  {
   "cell_type": "code",
   "execution_count": 7,
   "metadata": {},
   "outputs": [
    {
     "data": {
      "text/plain": [
       "0     10\n",
       "2     20\n",
       "4     30\n",
       "6     40\n",
       "8     50\n",
       "10    60\n",
       "dtype: int64"
      ]
     },
     "execution_count": 7,
     "metadata": {},
     "output_type": "execute_result"
    }
   ],
   "source": [
    "#crear una serie desde una secuencia np.. usando como índices enteros\n",
    "series_index = pd.Series(\n",
    "      np.array([10,20,30,40,50,60]), \n",
    "      index=np.arange(0,12,2) \n",
    ")\n",
    "series_index"
   ]
  },
  {
   "cell_type": "code",
   "execution_count": 8,
   "metadata": {},
   "outputs": [
    {
     "data": {
      "text/plain": [
       "a    10\n",
       "b    20\n",
       "c    30\n",
       "d    40\n",
       "e    50\n",
       "f    60\n",
       "dtype: int64"
      ]
     },
     "execution_count": 8,
     "metadata": {},
     "output_type": "execute_result"
    }
   ],
   "source": [
    "#crear una serie desde una secuencia np.. usa como índice caracteres\n",
    "series_index = pd.Series(\n",
    "        np.array([10,20,30,40,50,60]), \n",
    "        index=['a', 'b', 'c', 'd', 'e', 'f' ] \n",
    ")\n",
    "series_index"
   ]
  },
  {
   "cell_type": "code",
   "execution_count": 9,
   "metadata": {},
   "outputs": [
    {
     "data": {
      "text/html": [
       "<div>\n",
       "<style scoped>\n",
       "    .dataframe tbody tr th:only-of-type {\n",
       "        vertical-align: middle;\n",
       "    }\n",
       "\n",
       "    .dataframe tbody tr th {\n",
       "        vertical-align: top;\n",
       "    }\n",
       "\n",
       "    .dataframe thead th {\n",
       "        text-align: right;\n",
       "    }\n",
       "</style>\n",
       "<table border=\"1\" class=\"dataframe\">\n",
       "  <thead>\n",
       "    <tr style=\"text-align: right;\">\n",
       "      <th></th>\n",
       "      <th>name</th>\n",
       "      <th>age</th>\n",
       "      <th>designation</th>\n",
       "    </tr>\n",
       "  </thead>\n",
       "  <tbody>\n",
       "    <tr>\n",
       "      <th>First -&gt;</th>\n",
       "      <td>a</td>\n",
       "      <td>10</td>\n",
       "      <td>CEO</td>\n",
       "    </tr>\n",
       "    <tr>\n",
       "      <th>Second -&gt;</th>\n",
       "      <td>b</td>\n",
       "      <td>20</td>\n",
       "      <td>VP</td>\n",
       "    </tr>\n",
       "    <tr>\n",
       "      <th>Third -&gt;</th>\n",
       "      <td>c</td>\n",
       "      <td>30</td>\n",
       "      <td>SVP</td>\n",
       "    </tr>\n",
       "    <tr>\n",
       "      <th>Fourth -&gt;</th>\n",
       "      <td>d</td>\n",
       "      <td>40</td>\n",
       "      <td>AM</td>\n",
       "    </tr>\n",
       "    <tr>\n",
       "      <th>Fifth -&gt;</th>\n",
       "      <td>e</td>\n",
       "      <td>50</td>\n",
       "      <td>DEV</td>\n",
       "    </tr>\n",
       "  </tbody>\n",
       "</table>\n",
       "</div>"
      ],
      "text/plain": [
       "           name  age designation\n",
       "First ->      a   10         CEO\n",
       "Second ->     b   20          VP\n",
       "Third ->      c   30         SVP\n",
       "Fourth ->     d   40          AM\n",
       "Fifth ->      e   50         DEV"
      ]
     },
     "execution_count": 9,
     "metadata": {},
     "output_type": "execute_result"
    }
   ],
   "source": [
    "#otro ejemplo desde un dict\n",
    "my_dict = { \n",
    "'name' : [\"a\", \"b\", \"c\", \"d\", \"e\"],\n",
    "'age' : [10,20, 30, 40, 50],\n",
    "'designation': [\"CEO\", \"VP\", \"SVP\", \"AM\", \"DEV\"]\n",
    "}\n",
    "df = pd.DataFrame( my_dict, \n",
    "index = [\n",
    "\"First -> \",\n",
    "\"Second -> \", \n",
    "\"Third -> \", \n",
    "\"Fourth -> \", \n",
    "\"Fifth -> \"])\n",
    "\n",
    "df"
   ]
  },
  {
   "cell_type": "code",
   "execution_count": 10,
   "metadata": {},
   "outputs": [
    {
     "data": {
      "text/html": [
       "<div>\n",
       "<style scoped>\n",
       "    .dataframe tbody tr th:only-of-type {\n",
       "        vertical-align: middle;\n",
       "    }\n",
       "\n",
       "    .dataframe tbody tr th {\n",
       "        vertical-align: top;\n",
       "    }\n",
       "\n",
       "    .dataframe thead th {\n",
       "        text-align: right;\n",
       "    }\n",
       "</style>\n",
       "<table border=\"1\" class=\"dataframe\">\n",
       "  <thead>\n",
       "    <tr style=\"text-align: right;\">\n",
       "      <th></th>\n",
       "      <th>First -&gt;</th>\n",
       "      <th>Second -&gt;</th>\n",
       "      <th>Third -&gt;</th>\n",
       "      <th>Fourth -&gt;</th>\n",
       "      <th>Fifth -&gt;</th>\n",
       "    </tr>\n",
       "  </thead>\n",
       "  <tbody>\n",
       "    <tr>\n",
       "      <th>name</th>\n",
       "      <td>a</td>\n",
       "      <td>b</td>\n",
       "      <td>c</td>\n",
       "      <td>d</td>\n",
       "      <td>e</td>\n",
       "    </tr>\n",
       "    <tr>\n",
       "      <th>age</th>\n",
       "      <td>10</td>\n",
       "      <td>20</td>\n",
       "      <td>30</td>\n",
       "      <td>40</td>\n",
       "      <td>50</td>\n",
       "    </tr>\n",
       "  </tbody>\n",
       "</table>\n",
       "</div>"
      ],
      "text/plain": [
       "     First ->  Second ->  Third ->  Fourth ->  Fifth -> \n",
       "name         a          b         c          d         e\n",
       "age         10         20        30         40        50"
      ]
     },
     "execution_count": 10,
     "metadata": {},
     "output_type": "execute_result"
    }
   ],
   "source": [
    "# un dataframe de pandas es lo mismo a una colección de una o mas series. Entonces podemos generar simples series desde los dataframes y viceversa.\n",
    "series_name = df.name\n",
    "series_age = df.age\n",
    "series_designation = df.designation\n",
    "\n",
    "df_from_series = pd.DataFrame([series_name, series_age])\n",
    "\n",
    "df_from_series"
   ]
  },
  {
   "cell_type": "code",
   "execution_count": 11,
   "metadata": {},
   "outputs": [
    {
     "name": "stdout",
     "output_type": "stream",
     "text": [
      "a\n",
      "b\n",
      "c\n",
      "d\n",
      "e\n"
     ]
    }
   ],
   "source": [
    "# iterar sobre las series\n",
    "for value in series_name:\n",
    "    print(value)"
   ]
  },
  {
   "cell_type": "code",
   "execution_count": 12,
   "metadata": {},
   "outputs": [
    {
     "name": "stdout",
     "output_type": "stream",
     "text": [
      "Arreglo NumPy:\n",
      "[10 20 30 40 50]\n",
      "Convertido a series:\n",
      "0    10\n",
      "1    20\n",
      "2    30\n",
      "3    40\n",
      "4    50\n",
      "dtype: int64\n"
     ]
    }
   ],
   "source": [
    "# desde un np a series\n",
    "np_array = np.array([10, 20, 30, 40, 50])\n",
    "print(\"Arreglo NumPy:\")\n",
    "print(np_array)\n",
    "new_series = pd.Series(np_array)\n",
    "print(\"Convertido a series:\")\n",
    "print(new_series)"
   ]
  },
  {
   "cell_type": "code",
   "execution_count": 13,
   "metadata": {},
   "outputs": [
    {
     "name": "stdout",
     "output_type": "stream",
     "text": [
      "{'California': 423967, 'Texas': 695662, 'New York': 141297, 'Florida': 170312, 'Illinois': 149995}\n",
      "------\n",
      "{'California': 38332521, 'Texas': 26448193, 'New York': 19651127, 'Florida': 19552860, 'Illinois': 12882135}\n",
      "------\n",
      "            population    area\n",
      "California    38332521  423967\n",
      "Texas         26448193  695662\n",
      "New York      19651127  141297\n",
      "Florida       19552860  170312\n",
      "Illinois      12882135  149995\n"
     ]
    }
   ],
   "source": [
    "# crear un DF desde varias series y dict\n",
    "area_dict = {'California': 423967, 'Texas': 695662, 'New York': 141297,\n",
    "             'Florida': 170312, 'Illinois': 149995}\n",
    "print(area_dict)\n",
    "print('------')\n",
    "population_dict = {'California': 38332521, 'Texas': 26448193, 'New York': 19651127, 'Florida': 19552860, 'Illinois': 12882135}\n",
    "print(population_dict)\n",
    "print('------')\n",
    "\n",
    "area = pd.Series(area_dict)\n",
    "population = pd.Series(population_dict)\n",
    "states = pd.DataFrame({'population': population, 'area': area})\n",
    "\n",
    "print(states)"
   ]
  },
  {
   "cell_type": "code",
   "execution_count": 14,
   "metadata": {},
   "outputs": [
    {
     "name": "stdout",
     "output_type": "stream",
     "text": [
      "          x         y\n",
      "a  0.917718  0.678167\n",
      "b  0.955924  0.790570\n",
      "c  0.341116  0.722926\n"
     ]
    }
   ],
   "source": [
    "# crear un DF desde un array 2D con indices y nombres de columnas\n",
    "df = pd.DataFrame(np.random.rand(3, 2), index = ['a','b','c'], columns = ['x', 'y'])\n",
    "print(df)"
   ]
  },
  {
   "cell_type": "code",
   "execution_count": null,
   "metadata": {},
   "outputs": [],
   "source": []
  }
 ],
 "metadata": {
  "kernelspec": {
   "display_name": "Python 3",
   "language": "python",
   "name": "python3"
  },
  "language_info": {
   "codemirror_mode": {
    "name": "ipython",
    "version": 3
   },
   "file_extension": ".py",
   "mimetype": "text/x-python",
   "name": "python",
   "nbconvert_exporter": "python",
   "pygments_lexer": "ipython3",
   "version": "3.9.4"
  }
 },
 "nbformat": 4,
 "nbformat_minor": 4
}
