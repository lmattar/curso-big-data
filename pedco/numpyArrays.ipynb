{
 "cells": [
  {
   "cell_type": "code",
   "execution_count": 1,
   "metadata": {},
   "outputs": [],
   "source": [
    "# EJEMPLOS CON LA LIBRERÍA NUMPY"
   ]
  },
  {
   "cell_type": "code",
   "execution_count": 2,
   "metadata": {},
   "outputs": [
    {
     "data": {
      "text/plain": [
       "'1.20.2'"
      ]
     },
     "execution_count": 2,
     "metadata": {},
     "output_type": "execute_result"
    }
   ],
   "source": [
    "import numpy as np\n",
    "\n",
    "# qué versión tengo?\n",
    "np.version.version "
   ]
  },
  {
   "cell_type": "code",
   "execution_count": 3,
   "metadata": {},
   "outputs": [
    {
     "name": "stdout",
     "output_type": "stream",
     "text": [
      "[]\n"
     ]
    }
   ],
   "source": [
    "# Crear un array vacío\n",
    "a = np.array([])\n",
    "print(a) "
   ]
  },
  {
   "cell_type": "code",
   "execution_count": 4,
   "metadata": {},
   "outputs": [
    {
     "name": "stdout",
     "output_type": "stream",
     "text": [
      "El arreglo unidimensional que cree tiene: [1 2 3 4 5]\n"
     ]
    }
   ],
   "source": [
    "# crear un array\n",
    "a1D = np.array([1, 2, 3, 4, 5])\n",
    "\n",
    "print('El arreglo unidimensional que cree tiene:',a1D)"
   ]
  },
  {
   "cell_type": "code",
   "execution_count": 5,
   "metadata": {},
   "outputs": [
    {
     "data": {
      "text/plain": [
       "numpy.ndarray"
      ]
     },
     "execution_count": 5,
     "metadata": {},
     "output_type": "execute_result"
    }
   ],
   "source": [
    "# de qué tipo es?\n",
    "type(a1D)"
   ]
  },
  {
   "cell_type": "code",
   "execution_count": 6,
   "metadata": {},
   "outputs": [
    {
     "name": "stdout",
     "output_type": "stream",
     "text": [
      "Existe\n",
      "[1 2 3 4 5]\n"
     ]
    }
   ],
   "source": [
    "# existe el array Numpy llamado a1D:\n",
    "if isinstance(a1D, np.ndarray):\n",
    "    print('Existe')\n",
    "    print(a1D)\n",
    "else:\n",
    "    print('No existe') \n"
   ]
  },
  {
   "cell_type": "code",
   "execution_count": 7,
   "metadata": {},
   "outputs": [
    {
     "name": "stdout",
     "output_type": "stream",
     "text": [
      "[[1.  2.  3. ]\n",
      " [4.  5.8 6. ]]\n"
     ]
    }
   ],
   "source": [
    "# Crear un nuevo array bidimensional (2x3) para datos de tipo float\n",
    "a2D = np.array([[1, 2, 3], [4, 5.8, 6]], dtype=float)\n",
    "print(a2D) "
   ]
  },
  {
   "cell_type": "code",
   "execution_count": 8,
   "metadata": {},
   "outputs": [
    {
     "name": "stdout",
     "output_type": "stream",
     "text": [
      "[[[1 2]\n",
      "  [3 4]]\n",
      "\n",
      " [[5 6]\n",
      "  [7 8]]]\n"
     ]
    }
   ],
   "source": [
    "# Crear un array tridimensional (2x2x2) para datos de tipo int:\n",
    "a3D = np.array([[[1, 2], [3, 4]], [[5, 6], [7, 8]]], dtype=int)\n",
    "print(a3D)"
   ]
  },
  {
   "cell_type": "code",
   "execution_count": 9,
   "metadata": {},
   "outputs": [
    {
     "name": "stdout",
     "output_type": "stream",
     "text": [
      "[[0.91019235 0.70063955 0.88508693]\n",
      " [0.98195832 0.86455291 0.28643635]\n",
      " [0.76975182 0.04134251 0.8780905 ]]\n"
     ]
    }
   ],
   "source": [
    "# Crear un array de (3x3) con números aleatorios\n",
    "aa = np.random.random((3,3))\n",
    "print(aa)"
   ]
  },
  {
   "cell_type": "code",
   "execution_count": 10,
   "metadata": {},
   "outputs": [
    {
     "name": "stdout",
     "output_type": "stream",
     "text": [
      "[[1. 0. 0.]\n",
      " [0. 1. 0.]\n",
      " [0. 0. 1.]]\n"
     ]
    }
   ],
   "source": [
    "# Crear un array (3x3) con la matriz identidad. Esta matriz matriz \n",
    "#es una matriz cuadrada donde todos sus elementos son ceros (0) \n",
    "#excepto los elementos de la diagonal principal que son unos (1).\n",
    "\n",
    "ai = np.identity(3)\n",
    "print(ai)"
   ]
  },
  {
   "cell_type": "code",
   "execution_count": 11,
   "metadata": {},
   "outputs": [
    {
     "name": "stdout",
     "output_type": "stream",
     "text": [
      "[1 2 3 4 5]\n"
     ]
    }
   ],
   "source": [
    "# Crear un array con los elementos de una tupla\n",
    "\n",
    "tupla = (1, 2, 3, 4, 5)\n",
    "at = np.asarray(tupla)\n",
    "print(at) "
   ]
  },
  {
   "cell_type": "code",
   "execution_count": 12,
   "metadata": {},
   "outputs": [
    {
     "name": "stdout",
     "output_type": "stream",
     "text": [
      "La lista es: [[1, 2, 3], [4, 5, 6]]\n",
      "El arreglo es: \n",
      " [[1 2 3]\n",
      " [4 5 6]]\n"
     ]
    }
   ],
   "source": [
    "# Crear un array (2x3) con los elementos de una lista\n",
    "\n",
    "lista = [[1, 2, 3], [4, 5, 6]]\n",
    "print('La lista es:', lista)\n",
    "al = np.asarray(lista)\n",
    "print('El arreglo es: \\n',al)"
   ]
  },
  {
   "cell_type": "code",
   "execution_count": 13,
   "metadata": {},
   "outputs": [
    {
     "data": {
      "text/plain": [
       "array([[ 0.39320746, -0.81364857, -1.13590601],\n",
       "       [ 1.15113394, -0.83602999, -0.39264064]])"
      ]
     },
     "execution_count": 13,
     "metadata": {},
     "output_type": "execute_result"
    }
   ],
   "source": [
    "# Generar datos aleatorios de una matriz de 2x3\n",
    "data = np.random.randn(2,3)\n",
    "data"
   ]
  },
  {
   "cell_type": "code",
   "execution_count": 14,
   "metadata": {},
   "outputs": [
    {
     "data": {
      "text/plain": [
       "array([[  3.93207455,  -8.13648573, -11.35906006],\n",
       "       [ 11.51133941,  -8.36029988,  -3.92640639]])"
      ]
     },
     "execution_count": 14,
     "metadata": {},
     "output_type": "execute_result"
    }
   ],
   "source": [
    "#luego escribimos funciones aritméticas con los datos :\n",
    "data * 10"
   ]
  },
  {
   "cell_type": "code",
   "execution_count": 15,
   "metadata": {},
   "outputs": [
    {
     "data": {
      "text/plain": [
       "array([[ 0.78641491, -1.62729715, -2.27181201],\n",
       "       [ 2.30226788, -1.67205998, -0.78528128]])"
      ]
     },
     "execution_count": 15,
     "metadata": {},
     "output_type": "execute_result"
    }
   ],
   "source": [
    "data + data"
   ]
  },
  {
   "cell_type": "code",
   "execution_count": 16,
   "metadata": {},
   "outputs": [
    {
     "data": {
      "text/plain": [
       "dtype('float64')"
      ]
     },
     "execution_count": 16,
     "metadata": {},
     "output_type": "execute_result"
    }
   ],
   "source": [
    "#una matriz solo puede ser de un tipo\n",
    "data.dtype"
   ]
  },
  {
   "cell_type": "code",
   "execution_count": 17,
   "metadata": {},
   "outputs": [
    {
     "data": {
      "text/plain": [
       "(2, 3)"
      ]
     },
     "execution_count": 17,
     "metadata": {},
     "output_type": "execute_result"
    }
   ],
   "source": [
    "#cómo es la matriz?\n",
    "data.shape"
   ]
  },
  {
   "cell_type": "code",
   "execution_count": 18,
   "metadata": {},
   "outputs": [
    {
     "name": "stdout",
     "output_type": "stream",
     "text": [
      "[[ 1  2  3  4]\n",
      " [ 5  6  7  8]\n",
      " [ 9 10 11 12]]\n"
     ]
    }
   ],
   "source": [
    "# ejemplo de slicing\n",
    "\n",
    "# Crear una matriz de 3x4\n",
    "\n",
    "a3x4 = np.array([[1,2,3,4], [5,6,7,8], [9,10,11,12]])\n",
    "print(a3x4)"
   ]
  },
  {
   "cell_type": "code",
   "execution_count": 19,
   "metadata": {},
   "outputs": [
    {
     "name": "stdout",
     "output_type": "stream",
     "text": [
      "[[2 3]\n",
      " [6 7]]\n"
     ]
    }
   ],
   "source": [
    "# Usar slicing para extraer una submatriz que posea las 2 primeras filas de las columnas 1 y 2; \n",
    "# entonces b es una matriz de forma 2x2\n",
    "b = a3x4[:2, 1:3]\n",
    "print(b)"
   ]
  },
  {
   "cell_type": "code",
   "execution_count": 20,
   "metadata": {},
   "outputs": [
    {
     "name": "stdout",
     "output_type": "stream",
     "text": [
      "1\n"
     ]
    }
   ],
   "source": [
    "# diferentes operaciones: \n",
    "#la primera fila,columna es 0,0\n",
    "print(a3x4[0, 0]) #imprime 1"
   ]
  },
  {
   "cell_type": "code",
   "execution_count": 21,
   "metadata": {},
   "outputs": [
    {
     "name": "stdout",
     "output_type": "stream",
     "text": [
      "2\n"
     ]
    }
   ],
   "source": [
    "print(a3x4[0, 1])   # imprime 2"
   ]
  },
  {
   "cell_type": "code",
   "execution_count": 22,
   "metadata": {},
   "outputs": [
    {
     "name": "stdout",
     "output_type": "stream",
     "text": [
      "77\n"
     ]
    }
   ],
   "source": [
    "b[0, 0] = 77     # b[0, 0] es lo mismo que a[0, 1]\n",
    "print(a3x4[0, 1])   # imprime \"77\""
   ]
  },
  {
   "cell_type": "code",
   "execution_count": 23,
   "metadata": {},
   "outputs": [
    {
     "name": "stdout",
     "output_type": "stream",
     "text": [
      "[['1' '2' '3']\n",
      " ['4' '5' '6']\n",
      " ['7' '8' 'asa']\n",
      " ['10' '11' '12']]\n",
      "El tipo de la matriz es:  <U21\n",
      "\n",
      "[[ 1.    2.    3.  ]\n",
      " [ 4.    5.    6.  ]\n",
      " [ 7.    8.    3.14]\n",
      " [10.   11.   12.  ]]\n",
      "El tipo de la matriz es:  float64\n",
      "\n"
     ]
    }
   ],
   "source": [
    "# Los arreglos deben ser del mismo tipo, y los va a crear de esa forma..\n",
    "#por ejemplo si queremos crear esta matriz va a crearla toda como string, ya que hay un número que es string\n",
    "a4x3 = np.array([[1,2,3], [4,5,6], [7,8,'asa'], [10, 11, 12]])\n",
    "print(a4x3)  \n",
    "print('El tipo de la matriz es: ', a4x3.dtype)\n",
    "print()\n",
    "\n",
    "#si ahora hacemos:\n",
    "a4x3 = np.array([[1,2,3], [4,5,6], [7,8,3.14], [10, 11, 12]])\n",
    "print(a4x3)  \n",
    "print('El tipo de la matriz es: ', a4x3.dtype)\n",
    "print()"
   ]
  },
  {
   "cell_type": "code",
   "execution_count": 24,
   "metadata": {},
   "outputs": [
    {
     "data": {
      "text/plain": [
       "array(['Juan', 'Sol', 'Lucia', 'Juan', 'Lucia', 'Sol', 'Sol'], dtype='<U5')"
      ]
     },
     "execution_count": 24,
     "metadata": {},
     "output_type": "execute_result"
    }
   ],
   "source": [
    "#otro ejemplo\n",
    "nombre = np.array(['Juan', 'Sol', 'Lucia', 'Juan', 'Lucia', 'Sol', 'Sol'])\n",
    "nombre"
   ]
  },
  {
   "cell_type": "code",
   "execution_count": 25,
   "metadata": {},
   "outputs": [
    {
     "data": {
      "text/plain": [
       "array([ True, False, False,  True, False, False, False])"
      ]
     },
     "execution_count": 25,
     "metadata": {},
     "output_type": "execute_result"
    }
   ],
   "source": [
    "#analiza la condición por cada elemento\n",
    "nombre == 'Juan'"
   ]
  },
  {
   "cell_type": "code",
   "execution_count": 26,
   "metadata": {},
   "outputs": [
    {
     "name": "stdout",
     "output_type": "stream",
     "text": [
      "['Juan' 'Sol' 'Lucia' 'Juan' 'Lucia' 'Sol' 'Sol']\n"
     ]
    },
    {
     "data": {
      "text/plain": [
       "array([ True, False,  True,  True,  True, False, False])"
      ]
     },
     "execution_count": 26,
     "metadata": {},
     "output_type": "execute_result"
    }
   ],
   "source": [
    "print(nombre)\n",
    "mask = (nombre == 'Juan') | (nombre == 'Lucia')\n",
    "mask"
   ]
  },
  {
   "cell_type": "code",
   "execution_count": 27,
   "metadata": {},
   "outputs": [
    {
     "name": "stdout",
     "output_type": "stream",
     "text": [
      "['0' 'Sol' '0' '0' '0' 'Sol' 'Sol']\n"
     ]
    }
   ],
   "source": [
    "nombre[nombre < 'Lum'] = 0\n",
    "print(nombre)"
   ]
  },
  {
   "cell_type": "code",
   "execution_count": 28,
   "metadata": {},
   "outputs": [
    {
     "name": "stdout",
     "output_type": "stream",
     "text": [
      "['Juan' 'Sol' 'Juan' 'Juan' 'Juan' 'Sol' 'Sol']\n"
     ]
    }
   ],
   "source": [
    "nombre[nombre == '0'] =  'Juan'\n",
    "print(nombre)"
   ]
  },
  {
   "cell_type": "code",
   "execution_count": 29,
   "metadata": {},
   "outputs": [
    {
     "name": "stdout",
     "output_type": "stream",
     "text": [
      "[[ 1  2  3]\n",
      " [ 4  5  6]\n",
      " [ 7  8  9]\n",
      " [10 11 12]]\n"
     ]
    }
   ],
   "source": [
    "#operaciones sobre matrices\n",
    "a4x3 = np.array([[1,2,3], [4,5,6], [7,8,9], [10, 11, 12]])\n",
    "print(a4x3) "
   ]
  },
  {
   "cell_type": "code",
   "execution_count": 30,
   "metadata": {},
   "outputs": [
    {
     "data": {
      "text/plain": [
       "array([[1.        , 1.41421356, 1.73205081],\n",
       "       [2.        , 2.23606798, 2.44948974],\n",
       "       [2.64575131, 2.82842712, 3.        ],\n",
       "       [3.16227766, 3.31662479, 3.46410162]])"
      ]
     },
     "execution_count": 30,
     "metadata": {},
     "output_type": "execute_result"
    }
   ],
   "source": [
    "#calcular la raíz cuadrada\n",
    "np.sqrt(a4x3)"
   ]
  },
  {
   "cell_type": "code",
   "execution_count": 31,
   "metadata": {},
   "outputs": [
    {
     "data": {
      "text/plain": [
       "array([[  1,   4,   9],\n",
       "       [ 16,  25,  36],\n",
       "       [ 49,  64,  81],\n",
       "       [100, 121, 144]])"
      ]
     },
     "execution_count": 31,
     "metadata": {},
     "output_type": "execute_result"
    }
   ],
   "source": [
    "# elevarlo al cuadrado\n",
    "aa = np.square(a4x3)\n",
    "aa"
   ]
  },
  {
   "cell_type": "code",
   "execution_count": 32,
   "metadata": {},
   "outputs": [
    {
     "data": {
      "text/plain": [
       "array([[ 1.,  2.,  3.],\n",
       "       [ 4.,  5.,  6.],\n",
       "       [ 7.,  8.,  9.],\n",
       "       [10., 11., 12.]])"
      ]
     },
     "execution_count": 32,
     "metadata": {},
     "output_type": "execute_result"
    }
   ],
   "source": [
    "# volvemos a ko que teniamos pero ahora de tipo float\n",
    "aa = np.sqrt(aa)\n",
    "aa"
   ]
  },
  {
   "cell_type": "code",
   "execution_count": 33,
   "metadata": {},
   "outputs": [
    {
     "data": {
      "text/plain": [
       "6.5"
      ]
     },
     "execution_count": 33,
     "metadata": {},
     "output_type": "execute_result"
    }
   ],
   "source": [
    "#calcular la media\n",
    "np.mean(aa)"
   ]
  },
  {
   "cell_type": "code",
   "execution_count": 34,
   "metadata": {},
   "outputs": [
    {
     "data": {
      "text/plain": [
       "6.5"
      ]
     },
     "execution_count": 34,
     "metadata": {},
     "output_type": "execute_result"
    }
   ],
   "source": [
    "np.median(aa)"
   ]
  },
  {
   "cell_type": "code",
   "execution_count": null,
   "metadata": {},
   "outputs": [],
   "source": []
  }
 ],
 "metadata": {
  "kernelspec": {
   "display_name": "Python 3",
   "language": "python",
   "name": "python3"
  },
  "language_info": {
   "codemirror_mode": {
    "name": "ipython",
    "version": 3
   },
   "file_extension": ".py",
   "mimetype": "text/x-python",
   "name": "python",
   "nbconvert_exporter": "python",
   "pygments_lexer": "ipython3",
   "version": "3.9.4"
  }
 },
 "nbformat": 4,
 "nbformat_minor": 4
}
