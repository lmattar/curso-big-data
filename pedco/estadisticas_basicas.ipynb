{
 "cells": [
  {
   "cell_type": "code",
   "execution_count": 1,
   "id": "1c42e483-c50d-4730-9ce7-861db89dcb4e",
   "metadata": {},
   "outputs": [],
   "source": [
    "# INTRODUCCIÓN A Estadísticas básicas"
   ]
  },
  {
   "cell_type": "code",
   "execution_count": 21,
   "id": "d6c51c9f-b5b5-465f-89d0-347275046e17",
   "metadata": {},
   "outputs": [
    {
     "data": {
      "text/html": [
       "<div>\n",
       "<style scoped>\n",
       "    .dataframe tbody tr th:only-of-type {\n",
       "        vertical-align: middle;\n",
       "    }\n",
       "\n",
       "    .dataframe tbody tr th {\n",
       "        vertical-align: top;\n",
       "    }\n",
       "\n",
       "    .dataframe thead th {\n",
       "        text-align: right;\n",
       "    }\n",
       "</style>\n",
       "<table border=\"1\" class=\"dataframe\">\n",
       "  <thead>\n",
       "    <tr style=\"text-align: right;\">\n",
       "      <th></th>\n",
       "      <th>total_bill</th>\n",
       "      <th>tip</th>\n",
       "      <th>sex</th>\n",
       "      <th>smoker</th>\n",
       "      <th>day</th>\n",
       "      <th>time</th>\n",
       "      <th>size</th>\n",
       "    </tr>\n",
       "  </thead>\n",
       "  <tbody>\n",
       "    <tr>\n",
       "      <th>0</th>\n",
       "      <td>16.99</td>\n",
       "      <td>1.01</td>\n",
       "      <td>Female</td>\n",
       "      <td>No</td>\n",
       "      <td>Sun</td>\n",
       "      <td>Dinner</td>\n",
       "      <td>2</td>\n",
       "    </tr>\n",
       "    <tr>\n",
       "      <th>1</th>\n",
       "      <td>10.34</td>\n",
       "      <td>1.66</td>\n",
       "      <td>Male</td>\n",
       "      <td>No</td>\n",
       "      <td>Sun</td>\n",
       "      <td>Dinner</td>\n",
       "      <td>3</td>\n",
       "    </tr>\n",
       "    <tr>\n",
       "      <th>2</th>\n",
       "      <td>21.01</td>\n",
       "      <td>3.50</td>\n",
       "      <td>Male</td>\n",
       "      <td>No</td>\n",
       "      <td>Sun</td>\n",
       "      <td>Dinner</td>\n",
       "      <td>3</td>\n",
       "    </tr>\n",
       "    <tr>\n",
       "      <th>3</th>\n",
       "      <td>23.68</td>\n",
       "      <td>3.31</td>\n",
       "      <td>Male</td>\n",
       "      <td>No</td>\n",
       "      <td>Sun</td>\n",
       "      <td>Dinner</td>\n",
       "      <td>2</td>\n",
       "    </tr>\n",
       "    <tr>\n",
       "      <th>4</th>\n",
       "      <td>24.59</td>\n",
       "      <td>3.61</td>\n",
       "      <td>Female</td>\n",
       "      <td>No</td>\n",
       "      <td>Sun</td>\n",
       "      <td>Dinner</td>\n",
       "      <td>4</td>\n",
       "    </tr>\n",
       "    <tr>\n",
       "      <th>...</th>\n",
       "      <td>...</td>\n",
       "      <td>...</td>\n",
       "      <td>...</td>\n",
       "      <td>...</td>\n",
       "      <td>...</td>\n",
       "      <td>...</td>\n",
       "      <td>...</td>\n",
       "    </tr>\n",
       "    <tr>\n",
       "      <th>45</th>\n",
       "      <td>18.29</td>\n",
       "      <td>3.00</td>\n",
       "      <td>Male</td>\n",
       "      <td>No</td>\n",
       "      <td>Sun</td>\n",
       "      <td>Dinner</td>\n",
       "      <td>2</td>\n",
       "    </tr>\n",
       "    <tr>\n",
       "      <th>46</th>\n",
       "      <td>22.23</td>\n",
       "      <td>5.00</td>\n",
       "      <td>Male</td>\n",
       "      <td>No</td>\n",
       "      <td>Sun</td>\n",
       "      <td>Dinner</td>\n",
       "      <td>2</td>\n",
       "    </tr>\n",
       "    <tr>\n",
       "      <th>47</th>\n",
       "      <td>32.40</td>\n",
       "      <td>6.00</td>\n",
       "      <td>Male</td>\n",
       "      <td>No</td>\n",
       "      <td>Sun</td>\n",
       "      <td>Dinner</td>\n",
       "      <td>4</td>\n",
       "    </tr>\n",
       "    <tr>\n",
       "      <th>48</th>\n",
       "      <td>28.55</td>\n",
       "      <td>2.05</td>\n",
       "      <td>Male</td>\n",
       "      <td>No</td>\n",
       "      <td>Sun</td>\n",
       "      <td>Dinner</td>\n",
       "      <td>3</td>\n",
       "    </tr>\n",
       "    <tr>\n",
       "      <th>49</th>\n",
       "      <td>18.04</td>\n",
       "      <td>3.00</td>\n",
       "      <td>Male</td>\n",
       "      <td>No</td>\n",
       "      <td>Sun</td>\n",
       "      <td>Dinner</td>\n",
       "      <td>2</td>\n",
       "    </tr>\n",
       "  </tbody>\n",
       "</table>\n",
       "<p>50 rows × 7 columns</p>\n",
       "</div>"
      ],
      "text/plain": [
       "    total_bill   tip     sex smoker  day    time  size\n",
       "0        16.99  1.01  Female     No  Sun  Dinner     2\n",
       "1        10.34  1.66    Male     No  Sun  Dinner     3\n",
       "2        21.01  3.50    Male     No  Sun  Dinner     3\n",
       "3        23.68  3.31    Male     No  Sun  Dinner     2\n",
       "4        24.59  3.61  Female     No  Sun  Dinner     4\n",
       "..         ...   ...     ...    ...  ...     ...   ...\n",
       "45       18.29  3.00    Male     No  Sun  Dinner     2\n",
       "46       22.23  5.00    Male     No  Sun  Dinner     2\n",
       "47       32.40  6.00    Male     No  Sun  Dinner     4\n",
       "48       28.55  2.05    Male     No  Sun  Dinner     3\n",
       "49       18.04  3.00    Male     No  Sun  Dinner     2\n",
       "\n",
       "[50 rows x 7 columns]"
      ]
     },
     "execution_count": 21,
     "metadata": {},
     "output_type": "execute_result"
    }
   ],
   "source": [
    "# import necesarios\n",
    "import numpy as np\n",
    "import pandas as pd\n",
    "\n",
    "pd.options.display.max_rows = 10\n",
    "\n",
    "# Load the Tips Data\n",
    "tips = pd.read_csv('../datasets/tips.csv')\n",
    "\n",
    "# Display first few rows\n",
    "tips.head(50)"
   ]
  },
  {
   "cell_type": "code",
   "execution_count": 4,
   "id": "686bdb97-1043-4b6d-8d4f-96d79474292c",
   "metadata": {},
   "outputs": [
    {
     "data": {
      "text/plain": [
       "array([10.27, 35.26, 15.42, 18.43, 14.83, 21.58, 10.33, 16.29, 16.97,\n",
       "       20.65])"
      ]
     },
     "execution_count": 4,
     "metadata": {},
     "output_type": "execute_result"
    }
   ],
   "source": [
    "# Convertimos la columna total_bill a un arreglo de NumPy\n",
    "data = tips.total_bill.values\n",
    "data[10:20]"
   ]
  },
  {
   "cell_type": "code",
   "execution_count": 5,
   "id": "65df24b0-70a6-4674-92f6-c500fbc67671",
   "metadata": {},
   "outputs": [
    {
     "name": "stdout",
     "output_type": "stream",
     "text": [
      "El promedio del total de las cuentas es 19.78594262295082\n"
     ]
    }
   ],
   "source": [
    "# Buscamos el promedio de los totales\n",
    "print('El promedio del total de las cuentas es', tips.total_bill.mean())"
   ]
  },
  {
   "cell_type": "code",
   "execution_count": 6,
   "id": "2f3d9d05-f639-4e8e-81bc-53d6d413aec4",
   "metadata": {},
   "outputs": [
    {
     "name": "stdout",
     "output_type": "stream",
     "text": [
      "El valor de la mediana es  17.795\n"
     ]
    }
   ],
   "source": [
    "print(\"El valor de la mediana es \", tips.total_bill.median())"
   ]
  },
  {
   "cell_type": "code",
   "execution_count": 7,
   "id": "76f4c5c4-a4b3-43b3-bb27-d23dd4d55d97",
   "metadata": {},
   "outputs": [
    {
     "name": "stdout",
     "output_type": "stream",
     "text": [
      "El modo para zize es  [2]\n"
     ]
    }
   ],
   "source": [
    "print(\"El modo para zize es \", tips[\"size\"].mode().tolist())"
   ]
  },
  {
   "cell_type": "code",
   "execution_count": 8,
   "id": "2f596484-dbe8-4aaa-b66c-084e72658aa6",
   "metadata": {},
   "outputs": [
    {
     "name": "stdout",
     "output_type": "stream",
     "text": [
      "Maximo =  50.81\n",
      "Minimum =  3.07\n",
      "Range =  47.74\n",
      "Varianza =  79.25293861397827\n",
      "Desviación estándar = 8.9024\n",
      "\n",
      "Desviación estándar = 8.902411954856856\n"
     ]
    }
   ],
   "source": [
    "# Calcular rangos\n",
    "maximo = tips.total_bill.max()\n",
    "minimo = tips.total_bill.min()\n",
    "#redondeo a dos decimales\n",
    "print(\"Maximo = \", round(maximo, 2))\n",
    "print(\"Minimum = \", minimo)\n",
    "print(\"Range = \", maximo-minimo)\n",
    "\n",
    "# Varianza y desviación estándar\n",
    "print(\"Varianza = \", tips.total_bill.var())\n",
    "# imprimirlo en un formato específico. 6:4 salida 6 columnas, 4 posiciones decimales, el resultado es f = 3.1416\n",
    "print(f'Desviación estándar = {tips.total_bill.std():6.4f}\\n')\n",
    "print(\"Desviación estándar =\", tips.total_bill.std())"
   ]
  },
  {
   "cell_type": "code",
   "execution_count": 9,
   "id": "04743095-fd94-43fe-9101-79a663d9367f",
   "metadata": {},
   "outputs": [
    {
     "name": "stdout",
     "output_type": "stream",
     "text": [
      "Mediana (via percentil) = 17.7950\n",
      "1er Cuartil = 13.3475\n",
      "2do Cuartil = 17.7950\n",
      "3er Cuartil = 24.1275\n",
      "4to Cuartil = 50.8100\n",
      "Rango Cuartil = 10.7800\n"
     ]
    }
   ],
   "source": [
    "# Mostrar percentiles con la Mediana\n",
    "data = tips.total_bill.values\n",
    "print(f'Mediana (via percentil) = {np.percentile(data, 50):6.4f}')\n",
    "\n",
    "# Compute cuartiles\n",
    "print(f'1er Cuartil = {np.percentile(data, 25):6.4f}')\n",
    "print(f'2do Cuartil = {np.percentile(data, 50):6.4f}')\n",
    "print(f'3er Cuartil = {np.percentile(data, 75):6.4f}')\n",
    "print(f'4to Cuartil = {np.percentile(data, 100):6.4f}')\n",
    "\n",
    "# Rango intercuartil es usada tmb como medidad de disperción\n",
    "print(f'Rango Cuartil = {np.percentile(data, 75) - np.percentile(data, 25):6.4f}')"
   ]
  },
  {
   "cell_type": "code",
   "execution_count": 10,
   "id": "7694dbd9-e670-400f-9699-8d902f89a8f0",
   "metadata": {},
   "outputs": [
    {
     "name": "stdout",
     "output_type": "stream",
     "text": [
      "1er Cuantil = 12.6360\n",
      "2do Cuantil = 16.2220\n",
      "3er Cuantil = 19.8180\n",
      "4to Cuantil = 26.0980\n"
     ]
    }
   ],
   "source": [
    "# Compute cuantiles\n",
    "print(f'1er Cuantil = {np.percentile(data, 20):6.4f}')\n",
    "print(f'2do Cuantil = {np.percentile(data, 40):6.4f}')\n",
    "print(f'3er Cuantil = {np.percentile(data, 60):6.4f}')\n",
    "print(f'4to Cuantil = {np.percentile(data, 80):6.4f}')"
   ]
  },
  {
   "cell_type": "code",
   "execution_count": 11,
   "id": "3445830f-6a22-4f06-bb65-351dc263a4e3",
   "metadata": {},
   "outputs": [
    {
     "data": {
      "text/html": [
       "<div>\n",
       "<style scoped>\n",
       "    .dataframe tbody tr th:only-of-type {\n",
       "        vertical-align: middle;\n",
       "    }\n",
       "\n",
       "    .dataframe tbody tr th {\n",
       "        vertical-align: top;\n",
       "    }\n",
       "\n",
       "    .dataframe thead th {\n",
       "        text-align: right;\n",
       "    }\n",
       "</style>\n",
       "<table border=\"1\" class=\"dataframe\">\n",
       "  <thead>\n",
       "    <tr style=\"text-align: right;\">\n",
       "      <th></th>\n",
       "      <th>total_bill</th>\n",
       "      <th>tip</th>\n",
       "      <th>size</th>\n",
       "    </tr>\n",
       "  </thead>\n",
       "  <tbody>\n",
       "    <tr>\n",
       "      <th>count</th>\n",
       "      <td>244.000000</td>\n",
       "      <td>244.000000</td>\n",
       "      <td>244.000000</td>\n",
       "    </tr>\n",
       "    <tr>\n",
       "      <th>mean</th>\n",
       "      <td>19.785943</td>\n",
       "      <td>2.998279</td>\n",
       "      <td>2.569672</td>\n",
       "    </tr>\n",
       "    <tr>\n",
       "      <th>std</th>\n",
       "      <td>8.902412</td>\n",
       "      <td>1.383638</td>\n",
       "      <td>0.951100</td>\n",
       "    </tr>\n",
       "    <tr>\n",
       "      <th>min</th>\n",
       "      <td>3.070000</td>\n",
       "      <td>1.000000</td>\n",
       "      <td>1.000000</td>\n",
       "    </tr>\n",
       "    <tr>\n",
       "      <th>25%</th>\n",
       "      <td>13.347500</td>\n",
       "      <td>2.000000</td>\n",
       "      <td>2.000000</td>\n",
       "    </tr>\n",
       "    <tr>\n",
       "      <th>50%</th>\n",
       "      <td>17.795000</td>\n",
       "      <td>2.900000</td>\n",
       "      <td>2.000000</td>\n",
       "    </tr>\n",
       "    <tr>\n",
       "      <th>75%</th>\n",
       "      <td>24.127500</td>\n",
       "      <td>3.562500</td>\n",
       "      <td>3.000000</td>\n",
       "    </tr>\n",
       "    <tr>\n",
       "      <th>max</th>\n",
       "      <td>50.810000</td>\n",
       "      <td>10.000000</td>\n",
       "      <td>6.000000</td>\n",
       "    </tr>\n",
       "  </tbody>\n",
       "</table>\n",
       "</div>"
      ],
      "text/plain": [
       "       total_bill         tip        size\n",
       "count  244.000000  244.000000  244.000000\n",
       "mean    19.785943    2.998279    2.569672\n",
       "std      8.902412    1.383638    0.951100\n",
       "min      3.070000    1.000000    1.000000\n",
       "25%     13.347500    2.000000    2.000000\n",
       "50%     17.795000    2.900000    2.000000\n",
       "75%     24.127500    3.562500    3.000000\n",
       "max     50.810000   10.000000    6.000000"
      ]
     },
     "execution_count": 11,
     "metadata": {},
     "output_type": "execute_result"
    }
   ],
   "source": [
    "# para ver resumen de estadísticas básicas de tips.csv\n",
    "tips.describe()"
   ]
  },
  {
   "cell_type": "code",
   "execution_count": 35,
   "id": "6fc975fa-2d0d-4e2e-aef1-fb312c8963d7",
   "metadata": {},
   "outputs": [
    {
     "data": {
      "image/png": "[encoded data removed]",
      "text/plain": [
       "<Figure size 842.4x595.44 with 1 Axes>"
      ]
     },
     "metadata": {},
     "output_type": "display_data"
    }
   ],
   "source": [
    "\n",
    "#uso los siguientes imports\n",
    "import seaborn as sns\n",
    "import matplotlib.pyplot as plt\n",
    "\n",
    "# el color de fondo del plot a blanco\n",
    "sns.set(style=\"whitegrid\", color_codes=True)\n",
    "# setear el tramaño del gráfico\n",
    "sns.set(rc={'figure.figsize':(11.7,8.27)})\n",
    "\n",
    "# creando un countplot()\n",
    "\n",
    "ax = sns.countplot(x=\"size\", hue=\"sex\", data=tips)\n",
    "\n",
    "# Removee márgenes\n",
    "sns.despine(offset=10, trim=True)\n"
   ]
  },
  {
   "cell_type": "code",
   "execution_count": null,
   "id": "9a2b3111-3aa1-4250-99ad-18c2d45df5a7",
   "metadata": {},
   "outputs": [],
   "source": []
  }
 ],
 "metadata": {
  "kernelspec": {
   "display_name": "Python 3",
   "language": "python",
   "name": "python3"
  },
  "language_info": {
   "codemirror_mode": {
    "name": "ipython",
    "version": 3
   },
   "file_extension": ".py",
   "mimetype": "text/x-python",
   "name": "python",
   "nbconvert_exporter": "python",
   "pygments_lexer": "ipython3",
   "version": "3.9.4"
  }
 },
 "nbformat": 4,
 "nbformat_minor": 5
}
