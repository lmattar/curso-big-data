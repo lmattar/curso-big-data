{
 "cells": [
  {
   "cell_type": "code",
   "execution_count": 1,
   "metadata": {},
   "outputs": [],
   "source": [
    "# EJEMPLOS DE USO DE list, tuple, set y dictonary"
   ]
  },
  {
   "cell_type": "code",
   "execution_count": 2,
   "metadata": {},
   "outputs": [
    {
     "name": "stdout",
     "output_type": "stream",
     "text": [
      "Agregando 5 y 10 en la lista ['G', 'E', 'E', 'K', 'S', 'F', 'O', 'R', 'G', 'E', 'E', 'K', 'S', 5, 10]\n",
      "Saco un elemento de la lista ['G', 'E', 'E', 'K', 'S', 'F', 'O', 'R', 'G', 'E', 'E', 'K', 'S', 5]\n",
      "\n",
      "La cantidad de elementos de la lista es:  14\n",
      "Ahora la lista es:  ['G', 'E', 'E', 'K', 'S', 'F', 'O', 'R', 'G', 'E', 'E', 'K', 'S', 5, 9.78, 9.79]\n"
     ]
    }
   ],
   "source": [
    " \n",
    "# Lista\n",
    "l = ['G','E','E','K','S','F','O','R','G','E','E','K','S']\n",
    "  \n",
    "# Agregar un elemento a la lista\n",
    "l.append(5)\n",
    "l.append(10)\n",
    "print(\"Agregando 5 y 10 en la lista\", l)\n",
    "  \n",
    "# Extraer elementos de la lista\n",
    "l.pop()\n",
    "print(\"Saco un elemento de la lista\", l)\n",
    "print()\n",
    "\n",
    "#cantidad de elementos\n",
    "cantidad_elementos = len(l)\n",
    "print('La cantidad de elementos de la lista es: ',cantidad_elementos)\n",
    "\n",
    "#anadir varios elementos\n",
    "lista2 = [9.78, 9.79]\n",
    "l.extend(lista2)\n",
    "print('Ahora la lista es: ', l)"
   ]
  },
  {
   "cell_type": "code",
   "execution_count": 3,
   "metadata": {},
   "outputs": [
    {
     "name": "stdout",
     "output_type": "stream",
     "text": [
      "La lista ordenada es:  ['bsd', 'linux', 'mac', 'solaris', 'unix', 'windows']\n",
      "['bsd', 'linux', 'mac']\n",
      "['bsd', 'linux', 'mac']\n",
      "['solaris', 'unix', 'windows']\n",
      "['unix', 'windows']\n"
     ]
    }
   ],
   "source": [
    "#hacer slicing\n",
    "so = ['windows','linux','mac', 'solaris', 'bsd','unix']\n",
    "so.sort() # produce ['bsd','linux','mac', 'solaris','unix','windows']\n",
    "print('La lista ordenada es: ',so)\n",
    "print (so[0:3]) #imprime del 0 al 2\n",
    "print (so[:3]) # podemos suprimir el 0 y lo asumirá por default\n",
    "print (so[3:]) #del 3er elemento al ultimo \n",
    "print (so[-2:]) #los ultimos 2"
   ]
  },
  {
   "cell_type": "code",
   "execution_count": 4,
   "metadata": {},
   "outputs": [
    {
     "name": "stdout",
     "output_type": "stream",
     "text": [
      "Agregando 5 y 10 en set {1.0, 5, 'Hola', 10, (1, 2, 3)}\n",
      "Eliminando 5 de set {1.0, 'Hola', 10, (1, 2, 3)}\n"
     ]
    }
   ],
   "source": [
    "# Set\n",
    "s = {1.0, \"Hola\", (1, 2, 3)}\n",
    "  \n",
    "# Agregar un elemento a set\n",
    "s.add(5)\n",
    "s.add(10)\n",
    "print(\"Agregando 5 y 10 en set\", s)\n",
    "  \n",
    "# Eliminando un elemento de set\n",
    "s.remove(5)\n",
    "print(\"Eliminando 5 de set\", s)"
   ]
  },
  {
   "cell_type": "code",
   "execution_count": 5,
   "metadata": {},
   "outputs": [
    {
     "name": "stdout",
     "output_type": "stream",
     "text": [
      "Tuple ('gato', [8, 4, 6], (1, 2, 3))\n"
     ]
    }
   ],
   "source": [
    "# creo una tupla con valores anidados\n",
    "t =  (\"gato\", [8, 4, 6], (1, 2, 3))\n",
    "  \n",
    "# Tuplas son immutables\n",
    "print(\"Tuple\", t)"
   ]
  },
  {
   "cell_type": "code",
   "execution_count": 6,
   "metadata": {},
   "outputs": [
    {
     "name": "stdout",
     "output_type": "stream",
     "text": [
      "Dictonary {'G': 2, 'E': 4, 'K': 2, 'S': 2, 'F': 1, 'O': 1, 'R': 1, 'Cinco': 5, 'Diez': 10}\n",
      "Dictonario {'E': 4, 'K': 2, 'S': 2, 'F': 1, 'O': 1, 'R': 1, 'Cinco': 5, 'Diez': 10}\n"
     ]
    }
   ],
   "source": [
    "# Dictonary\n",
    "d = {'G':2,'E':4,'K':2,'S':2,\n",
    "       'F':1,'O':1,'R':1}\n",
    "  \n",
    "# Agrego par clave-valor\n",
    "d['Cinco'] = 5\n",
    "d['Diez'] = 10\n",
    "print(\"Dictonary\", d)\n",
    "  \n",
    "# Elimino par clave-valor\n",
    "del d['G']\n",
    "print(\"Dictonario\", d)"
   ]
  },
  {
   "cell_type": "code",
   "execution_count": null,
   "metadata": {},
   "outputs": [],
   "source": []
  }
 ],
 "metadata": {
  "kernelspec": {
   "display_name": "Python 3",
   "language": "python",
   "name": "python3"
  },
  "language_info": {
   "codemirror_mode": {
    "name": "ipython",
    "version": 3
   },
   "file_extension": ".py",
   "mimetype": "text/x-python",
   "name": "python",
   "nbconvert_exporter": "python",
   "pygments_lexer": "ipython3",
   "version": "3.9.4"
  }
 },
 "nbformat": 4,
 "nbformat_minor": 4
}
